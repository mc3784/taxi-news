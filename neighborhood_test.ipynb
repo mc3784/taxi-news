{
 "cells": [
  {
   "cell_type": "code",
   "execution_count": 1,
   "metadata": {
    "collapsed": false
   },
   "outputs": [],
   "source": [
    "import pandas as pd\n",
    "from ray_casting import *"
   ]
  },
  {
   "cell_type": "code",
   "execution_count": 2,
   "metadata": {
    "collapsed": false
   },
   "outputs": [],
   "source": [
    "df = pd.DataFrame.from_csv(\"PolygonConverted_NYC.csv\",index_col=False)"
   ]
  },
  {
   "cell_type": "code",
   "execution_count": 3,
   "metadata": {
    "collapsed": false
   },
   "outputs": [],
   "source": [
    "rows = df.as_matrix()"
   ]
  },
  {
   "cell_type": "code",
   "execution_count": 4,
   "metadata": {
    "collapsed": false
   },
   "outputs": [],
   "source": [
    "polys = []\n",
    "edges = []\n",
    "\n",
    "prev_neigh = None\n",
    "prev_coord = None\n",
    "poly_name  = None\n",
    "\n",
    "for row in rows:\n",
    "    if prev_neigh == None:\n",
    "        prev_neigh = row[0]\n",
    "        prev_coord = (row[-2],row[-1])\n",
    "        poly_name  = row[4]\n",
    "    elif (row[0] <> prev_neigh):\n",
    "        polys.append(Poly(name=poly_name,edges=edges))\n",
    "        prev_neigh = row[0]\n",
    "        prev_coord = (row[-2],row[-1])\n",
    "        poly_name  = row[4]\n",
    "        edges = []\n",
    "    else:\n",
    "        edges.append(Edge(a=Pt(x=prev_coord[0],y=prev_coord[1]),b=Pt(x=row[-2],y=row[-1])))\n",
    "        prev_coord = (row[-2],row[-1])"
   ]
  },
  {
   "cell_type": "code",
   "execution_count": 5,
   "metadata": {
    "collapsed": false
   },
   "outputs": [
    {
     "name": "stdout",
     "output_type": "stream",
     "text": [
      "this point is in: East Village\n"
     ]
    }
   ],
   "source": [
    "for poly in polys:\n",
    "    if ispointinside(Pt(x=-73.97310741, y=40.72119878),poly):\n",
    "        print \"this point is in:\", poly[0]"
   ]
  },
  {
   "cell_type": "code",
   "execution_count": null,
   "metadata": {
    "collapsed": true
   },
   "outputs": [],
   "source": []
  }
 ],
 "metadata": {
  "kernelspec": {
   "display_name": "Python 2",
   "language": "python",
   "name": "python2"
  },
  "language_info": {
   "codemirror_mode": {
    "name": "ipython",
    "version": 2
   },
   "file_extension": ".py",
   "mimetype": "text/x-python",
   "name": "python",
   "nbconvert_exporter": "python",
   "pygments_lexer": "ipython2",
   "version": "2.7.11"
  }
 },
 "nbformat": 4,
 "nbformat_minor": 0
}
